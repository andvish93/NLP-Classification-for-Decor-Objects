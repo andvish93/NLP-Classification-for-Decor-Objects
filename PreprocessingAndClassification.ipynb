{
 "cells": [
  {
   "cell_type": "markdown",
   "metadata": {},
   "source": [
    "## Importing required packages"
   ]
  },
  {
   "cell_type": "code",
   "execution_count": 1,
   "metadata": {},
   "outputs": [],
   "source": [
    "\n",
    "import nltk\n",
    "import pandas as pd\n",
    "import re\n",
    "import string\n",
    "\n",
    "from sklearn import metrics\n",
    "from sklearn.ensemble import GradientBoostingClassifier\n",
    "from sklearn.feature_extraction.text import TfidfVectorizer\n",
    "from sklearn.metrics import accuracy_score\n",
    "from sklearn.preprocessing import LabelEncoder\n"
   ]
  },
  {
   "cell_type": "markdown",
   "metadata": {},
   "source": [
    "## Importing Data"
   ]
  },
  {
   "cell_type": "code",
   "execution_count": 2,
   "metadata": {
    "scrolled": true
   },
   "outputs": [
    {
     "data": {
      "text/html": [
       "<div>\n",
       "<style scoped>\n",
       "    .dataframe tbody tr th:only-of-type {\n",
       "        vertical-align: middle;\n",
       "    }\n",
       "\n",
       "    .dataframe tbody tr th {\n",
       "        vertical-align: top;\n",
       "    }\n",
       "\n",
       "    .dataframe thead th {\n",
       "        text-align: right;\n",
       "    }\n",
       "</style>\n",
       "<table border=\"1\" class=\"dataframe\">\n",
       "  <thead>\n",
       "    <tr style=\"text-align: right;\">\n",
       "      <th></th>\n",
       "      <th>text</th>\n",
       "      <th>label1</th>\n",
       "    </tr>\n",
       "  </thead>\n",
       "  <tbody>\n",
       "    <tr>\n",
       "      <th>0</th>\n",
       "      <td>Alpine Granada Brown Wood Dining Chairs (Set o...</td>\n",
       "      <td>dining</td>\n",
       "    </tr>\n",
       "    <tr>\n",
       "      <th>1</th>\n",
       "      <td>Graham Hills Cottage Cracked Wheat Six Drawer ...</td>\n",
       "      <td>bedroom</td>\n",
       "    </tr>\n",
       "    <tr>\n",
       "      <th>2</th>\n",
       "      <td>Safavieh Hollis Clear Console TableWhether pla...</td>\n",
       "      <td>living</td>\n",
       "    </tr>\n",
       "    <tr>\n",
       "      <th>3</th>\n",
       "      <td>Equity 20080 3.5\" Travel Alarm ClockFeatures: ...</td>\n",
       "      <td>accessories</td>\n",
       "    </tr>\n",
       "    <tr>\n",
       "      <th>4</th>\n",
       "      <td>Jennifer Taylor Michelle Tufted Square Ottoman...</td>\n",
       "      <td>living</td>\n",
       "    </tr>\n",
       "    <tr>\n",
       "      <th>5</th>\n",
       "      <td>Set of Three Boxed Hand-painted Mini-Pillar Ca...</td>\n",
       "      <td>accessories</td>\n",
       "    </tr>\n",
       "    <tr>\n",
       "      <th>6</th>\n",
       "      <td>Furniture of America Merlam Faux Leather Futon...</td>\n",
       "      <td>living</td>\n",
       "    </tr>\n",
       "    <tr>\n",
       "      <th>7</th>\n",
       "      <td>Wooden 3 Panel Mirror Vanity Set with Stool, R...</td>\n",
       "      <td>living</td>\n",
       "    </tr>\n",
       "    <tr>\n",
       "      <th>8</th>\n",
       "      <td>Bobkona Prissy Accent ChairPair this versatile...</td>\n",
       "      <td>living</td>\n",
       "    </tr>\n",
       "    <tr>\n",
       "      <th>9</th>\n",
       "      <td>Full Size Khaki Suede 8-inch Dual Latex Futon ...</td>\n",
       "      <td>living</td>\n",
       "    </tr>\n",
       "  </tbody>\n",
       "</table>\n",
       "</div>"
      ],
      "text/plain": [
       "                                                text       label1\n",
       "0  Alpine Granada Brown Wood Dining Chairs (Set o...       dining\n",
       "1  Graham Hills Cottage Cracked Wheat Six Drawer ...      bedroom\n",
       "2  Safavieh Hollis Clear Console TableWhether pla...       living\n",
       "3  Equity 20080 3.5\" Travel Alarm ClockFeatures: ...  accessories\n",
       "4  Jennifer Taylor Michelle Tufted Square Ottoman...       living\n",
       "5  Set of Three Boxed Hand-painted Mini-Pillar Ca...  accessories\n",
       "6  Furniture of America Merlam Faux Leather Futon...       living\n",
       "7  Wooden 3 Panel Mirror Vanity Set with Stool, R...       living\n",
       "8  Bobkona Prissy Accent ChairPair this versatile...       living\n",
       "9  Full Size Khaki Suede 8-inch Dual Latex Futon ...       living"
      ]
     },
     "execution_count": 2,
     "metadata": {},
     "output_type": "execute_result"
    }
   ],
   "source": [
    "cols_required = ['text', 'label1']  # only required columns\n",
    "train_data = pd.read_csv('corpus_training.csv', usecols=cols_required)  # training data\n",
    "test_data = pd.read_csv('corpus_test.csv', usecols=cols_required)  # test_data\n",
    "\n",
    "train_data.head(10)"
   ]
  },
  {
   "cell_type": "markdown",
   "metadata": {},
   "source": [
    "## Initializing stopwords and lemmatizer"
   ]
  },
  {
   "cell_type": "code",
   "execution_count": 3,
   "metadata": {},
   "outputs": [],
   "source": [
    "stopwords = nltk.corpus.stopwords.words('english')\n",
    "stopwords += [  # stopword obtained from Analysis.ipynb\n",
    "    'inch',\n",
    "    'x',\n",
    "    'furniture',\n",
    "    'pattern',\n",
    "    'please',\n",
    "    'note',\n",
    "    'features',\n",
    "    'material',\n",
    "    'dimensions',\n",
    "    'style',\n",
    "    'set',\n",
    "    'includes',\n",
    "    'area',\n",
    "    'design',\n",
    "    'replacement',\n",
    "    'finish',\n",
    "    ]\n",
    "lm = nltk.WordNetLemmatizer()\n"
   ]
  },
  {
   "cell_type": "markdown",
   "metadata": {},
   "source": [
    "## Label Encoding for target column"
   ]
  },
  {
   "cell_type": "code",
   "execution_count": 4,
   "metadata": {},
   "outputs": [
    {
     "data": {
      "text/html": [
       "<div>\n",
       "<style scoped>\n",
       "    .dataframe tbody tr th:only-of-type {\n",
       "        vertical-align: middle;\n",
       "    }\n",
       "\n",
       "    .dataframe tbody tr th {\n",
       "        vertical-align: top;\n",
       "    }\n",
       "\n",
       "    .dataframe thead th {\n",
       "        text-align: right;\n",
       "    }\n",
       "</style>\n",
       "<table border=\"1\" class=\"dataframe\">\n",
       "  <thead>\n",
       "    <tr style=\"text-align: right;\">\n",
       "      <th></th>\n",
       "      <th>text</th>\n",
       "      <th>label1</th>\n",
       "      <th>label</th>\n",
       "    </tr>\n",
       "  </thead>\n",
       "  <tbody>\n",
       "    <tr>\n",
       "      <th>6509</th>\n",
       "      <td>Industrial Metal Queen-size Platform BedA gent...</td>\n",
       "      <td>bedroom</td>\n",
       "      <td>1</td>\n",
       "    </tr>\n",
       "    <tr>\n",
       "      <th>12603</th>\n",
       "      <td>Contemporary style 5-Tier Bookcase With 5 Open...</td>\n",
       "      <td>office</td>\n",
       "      <td>6</td>\n",
       "    </tr>\n",
       "    <tr>\n",
       "      <th>7241</th>\n",
       "      <td>The Curated Nomad Del Sur Counter-height Frenc...</td>\n",
       "      <td>dining</td>\n",
       "      <td>2</td>\n",
       "    </tr>\n",
       "    <tr>\n",
       "      <th>14179</th>\n",
       "      <td>Avery Home Lighting Stuart 1-Light Adjustable ...</td>\n",
       "      <td>lighting</td>\n",
       "      <td>4</td>\n",
       "    </tr>\n",
       "    <tr>\n",
       "      <th>4990</th>\n",
       "      <td>ECARPETGALLERY  Hand-knotted Bakhtiar Red Wool...</td>\n",
       "      <td>accessories</td>\n",
       "      <td>0</td>\n",
       "    </tr>\n",
       "  </tbody>\n",
       "</table>\n",
       "</div>"
      ],
      "text/plain": [
       "                                                    text       label1  label\n",
       "6509   Industrial Metal Queen-size Platform BedA gent...      bedroom      1\n",
       "12603  Contemporary style 5-Tier Bookcase With 5 Open...       office      6\n",
       "7241   The Curated Nomad Del Sur Counter-height Frenc...       dining      2\n",
       "14179  Avery Home Lighting Stuart 1-Light Adjustable ...     lighting      4\n",
       "4990   ECARPETGALLERY  Hand-knotted Bakhtiar Red Wool...  accessories      0"
      ]
     },
     "execution_count": 4,
     "metadata": {},
     "output_type": "execute_result"
    }
   ],
   "source": [
    "label = LabelEncoder()\n",
    "train_data['label'] = label.fit_transform(train_data['label1'])\n",
    "test_data['label'] = label.fit_transform(test_data['label1'])\n",
    "train_data.sample(5)\n"
   ]
  },
  {
   "cell_type": "code",
   "execution_count": 5,
   "metadata": {},
   "outputs": [
    {
     "data": {
      "text/html": [
       "<div>\n",
       "<style scoped>\n",
       "    .dataframe tbody tr th:only-of-type {\n",
       "        vertical-align: middle;\n",
       "    }\n",
       "\n",
       "    .dataframe tbody tr th {\n",
       "        vertical-align: top;\n",
       "    }\n",
       "\n",
       "    .dataframe thead th {\n",
       "        text-align: right;\n",
       "    }\n",
       "</style>\n",
       "<table border=\"1\" class=\"dataframe\">\n",
       "  <thead>\n",
       "    <tr style=\"text-align: right;\">\n",
       "      <th></th>\n",
       "      <th>text</th>\n",
       "      <th>label1</th>\n",
       "      <th>label</th>\n",
       "    </tr>\n",
       "  </thead>\n",
       "  <tbody>\n",
       "    <tr>\n",
       "      <th>2183</th>\n",
       "      <td>Pillows + Décor &gt; Gifts &gt; Holiday &gt; Holiday  N...</td>\n",
       "      <td>accessories</td>\n",
       "      <td>0</td>\n",
       "    </tr>\n",
       "    <tr>\n",
       "      <th>146</th>\n",
       "      <td>Bed &amp; Bath &gt; Bedding &gt; Duvet Covers + Shams  P...</td>\n",
       "      <td>bedroom</td>\n",
       "      <td>1</td>\n",
       "    </tr>\n",
       "    <tr>\n",
       "      <th>1762</th>\n",
       "      <td>Lighting &gt; Ceiling  Windsor Smith for Arterior...</td>\n",
       "      <td>lighting</td>\n",
       "      <td>4</td>\n",
       "    </tr>\n",
       "    <tr>\n",
       "      <th>886</th>\n",
       "      <td>Furniture &gt; Living Room Furniture &gt; Accent Cha...</td>\n",
       "      <td>living</td>\n",
       "      <td>5</td>\n",
       "    </tr>\n",
       "    <tr>\n",
       "      <th>905</th>\n",
       "      <td>Furniture &gt; Living Room Furniture &gt; Accent Cha...</td>\n",
       "      <td>living</td>\n",
       "      <td>5</td>\n",
       "    </tr>\n",
       "  </tbody>\n",
       "</table>\n",
       "</div>"
      ],
      "text/plain": [
       "                                                   text        label1  label\n",
       "2183  Pillows + Décor > Gifts > Holiday > Holiday  N...   accessories      0\n",
       "146   Bed & Bath > Bedding > Duvet Covers + Shams  P...       bedroom      1\n",
       "1762  Lighting > Ceiling  Windsor Smith for Arterior...      lighting      4\n",
       "886   Furniture > Living Room Furniture > Accent Cha...        living      5\n",
       "905   Furniture > Living Room Furniture > Accent Cha...        living      5"
      ]
     },
     "execution_count": 5,
     "metadata": {},
     "output_type": "execute_result"
    }
   ],
   "source": [
    "test_data.sample(5)"
   ]
  },
  {
   "cell_type": "markdown",
   "metadata": {},
   "source": [
    "## Mapping of labels"
   ]
  },
  {
   "cell_type": "code",
   "execution_count": 6,
   "metadata": {},
   "outputs": [
    {
     "name": "stdout",
     "output_type": "stream",
     "text": [
      " accessories : 0\n",
      " bedroom : 1\n",
      " dining : 2\n",
      " kids : 3\n",
      " lighting : 4\n",
      " living : 5\n",
      " office : 6\n",
      " outdoor : 7\n"
     ]
    }
   ],
   "source": [
    "le_name_mapping = dict(zip(label.classes_,\n",
    "                       label.transform(label.classes_)))\n",
    "for (k, v) in le_name_mapping.items():\n",
    "    print (k, ':', v)"
   ]
  },
  {
   "cell_type": "markdown",
   "metadata": {},
   "source": [
    "## Cleaning the text by removing punctutaions, tokenizing and lemmatizing."
   ]
  },
  {
   "cell_type": "code",
   "execution_count": 7,
   "metadata": {},
   "outputs": [],
   "source": [
    "def clean_text(text):\n",
    "    \"\"\" \n",
    "        description: removes punctuation, stopwords and then applies lemmatization on tokens\n",
    "        input: string\n",
    "        output: list (tokens of string)\n",
    "    \n",
    "    \"\"\"\n",
    "\n",
    "    text = text.split(':')[0]  # skipping contents past first ':' since they are of not much importance\n",
    "\n",
    "    text = ''.join([word.lower() for word in text if word\n",
    "                   not in string.punctuation])  # removing punctuation\n",
    "\n",
    "    text = re.sub(\" \\d+\", ' ', text)  # removing numbers\n",
    "    tokens = re.split('\\W+', text)  # splitting string into tokens\n",
    "    text = [lm.lemmatize(word) for word in tokens if word\n",
    "            not in stopwords]  # apply lemmatizer on each token\n",
    "\n",
    "    return text"
   ]
  },
  {
   "cell_type": "markdown",
   "metadata": {},
   "source": [
    "## Train test split"
   ]
  },
  {
   "cell_type": "code",
   "execution_count": 8,
   "metadata": {},
   "outputs": [],
   "source": [
    "# Training dataset\n",
    "\n",
    "X_train = train_data[['text']]\n",
    "y_train = train_data['label']\n",
    "\n",
    "# Test dataset\n",
    "\n",
    "X_test = test_data[['text']]\n",
    "y_test = test_data['label']"
   ]
  },
  {
   "cell_type": "markdown",
   "metadata": {},
   "source": [
    "## Text Vectorization TF-IDF"
   ]
  },
  {
   "cell_type": "code",
   "execution_count": 9,
   "metadata": {},
   "outputs": [],
   "source": [
    "# TfidfVectorizer performs count vectorization and tfidf transformation in one go.\n",
    "\n",
    "tfidf_vect = TfidfVectorizer(analyzer=clean_text)\n",
    "tfidf_vect_fit = tfidf_vect.fit(X_train['text'])\n",
    "\n",
    "tfidf_train = tfidf_vect_fit.transform(X_train['text'])  # Training dataset\n",
    "tfidf_test = tfidf_vect_fit.transform(X_test['text'])  # Test dataset"
   ]
  },
  {
   "cell_type": "markdown",
   "metadata": {},
   "source": [
    "## Converting sparse matrices to dataframe"
   ]
  },
  {
   "cell_type": "code",
   "execution_count": 10,
   "metadata": {},
   "outputs": [],
   "source": [
    "# Training dataset vector dataframe\n",
    "\n",
    "X_train_vect = pd.SparseDataFrame(tfidf_train,\n",
    "                                  columns=tfidf_vect_fit.get_feature_names(),\n",
    "                                  default_fill_value=0)\n",
    "\n",
    "# Test dataset vector dataframe\n",
    "\n",
    "X_test_vect = pd.SparseDataFrame(tfidf_test,\n",
    "                                 columns=tfidf_vect_fit.get_feature_names(),\n",
    "                                 default_fill_value=0)"
   ]
  },
  {
   "cell_type": "markdown",
   "metadata": {},
   "source": [
    "## Gradient Boosting"
   ]
  },
  {
   "cell_type": "code",
   "execution_count": 11,
   "metadata": {},
   "outputs": [],
   "source": [
    "gb = GradientBoostingClassifier()  # default uses learning rate of 0.1, n_estimators of 100 and max_depth of 3\n",
    "gb_model = gb.fit(X_train_vect, y_train)\n",
    "y_pred = gb_model.predict(X_test_vect)"
   ]
  },
  {
   "cell_type": "markdown",
   "metadata": {},
   "source": [
    "## Accuracy and classification report"
   ]
  },
  {
   "cell_type": "code",
   "execution_count": 12,
   "metadata": {},
   "outputs": [
    {
     "name": "stdout",
     "output_type": "stream",
     "text": [
      "Accuracy: 0.909829619921363\n",
      "              precision    recall  f1-score   support\n",
      "\n",
      "      dining       0.94      0.98      0.96      1855\n",
      "     bedroom       0.84      0.79      0.82       416\n",
      "      living       0.92      1.00      0.96       257\n",
      " accessories       0.65      0.15      0.25       112\n",
      "     outdoor       0.99      0.88      0.93       454\n",
      "      office       0.85      0.93      0.89       647\n",
      "    lighting       0.94      0.98      0.96        61\n",
      "        kids       0.00      0.00      0.00        13\n",
      "\n",
      "    accuracy                           0.91      3815\n",
      "   macro avg       0.77      0.71      0.72      3815\n",
      "weighted avg       0.91      0.91      0.90      3815\n",
      "\n",
      "[[1810   19    2    8    0    8    3    5]\n",
      " [  17  330    3    1    0   63    0    2]\n",
      " [   0    0  256    0    0    0    0    1]\n",
      " [  35   38    0   17    0   21    0    1]\n",
      " [  42    4    5    0  398    3    0    2]\n",
      " [  29    0   12    0    1  600    1    4]\n",
      " [   0    0    0    0    1    0   60    0]\n",
      " [   1    0    1    0    0   11    0    0]]\n"
     ]
    }
   ],
   "source": [
    "print(\"Accuracy:\", accuracy_score(y_test, y_pred))\n",
    "\n",
    "print(metrics.classification_report(y_test, y_pred, target_names = train_data['label1'].unique() ))\n",
    "\n",
    "print(metrics.confusion_matrix(y_test, y_pred, labels = [0, 1, 2, 3, 4, 5, 6, 7]))"
   ]
  },
  {
   "cell_type": "markdown",
   "metadata": {},
   "source": [
    "## Accuracy = 90.98%"
   ]
  }
 ],
 "metadata": {
  "kernelspec": {
   "display_name": "Python 3",
   "language": "python",
   "name": "python3"
  },
  "language_info": {
   "codemirror_mode": {
    "name": "ipython",
    "version": 3
   },
   "file_extension": ".py",
   "mimetype": "text/x-python",
   "name": "python",
   "nbconvert_exporter": "python",
   "pygments_lexer": "ipython3",
   "version": "3.7.3"
  }
 },
 "nbformat": 4,
 "nbformat_minor": 2
}
